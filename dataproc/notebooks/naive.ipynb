{
 "cells": [
  {
   "cell_type": "code",
   "execution_count": 1,
   "metadata": {
    "collapsed": true
   },
   "outputs": [],
   "source": [
    "from collections import defaultdict\n",
    "import pyspark.sql.types as stypes\n",
    "import operator\n",
    "import math"
   ]
  },
  {
   "cell_type": "code",
   "execution_count": null,
   "metadata": {
    "collapsed": true
   },
   "outputs": [],
   "source": [
    "d = sc.textFile(\"gs://lbanor/dataproc_example/data/2017-11-01\").zipW"
   ]
  },
  {
   "cell_type": "code",
   "execution_count": null,
   "metadata": {
    "collapsed": true
   },
   "outputs": [],
   "source": [
    "r = (sc.textFile(\"gs://lbanor/dataproc_example/data/2017-11-01\").zipWithIndex()\n",
    "     .filter(lambda x: x[1] > 0)\n",
    "     .map(lambda x: x[0].split(','))\n",
    "     .map(lambda x: (x[0], (x[1], 0.5 if x[2] == '1' else 2 if x[2] == '2' else 6)))\n",
    "     .groupByKey().mapValues(list)\n",
    "     .flatMap(lambda x: aggregate_skus(x)))"
   ]
  },
  {
   "cell_type": "code",
   "execution_count": null,
   "metadata": {
    "collapsed": true
   },
   "outputs": [],
   "source": [
    "print(r.collect()[:10])"
   ]
  },
  {
   "cell_type": "code",
   "execution_count": null,
   "metadata": {
    "collapsed": true
   },
   "outputs": [],
   "source": [
    "print(r.collect()[:10])"
   ]
  },
  {
   "cell_type": "code",
   "execution_count": null,
   "metadata": {
    "collapsed": true
   },
   "outputs": [],
   "source": [
    "d2 = spark.read.csv(\"gs://lbanor/dataproc_example/data/2017-11-01\", header=True)"
   ]
  },
  {
   "cell_type": "code",
   "execution_count": null,
   "metadata": {
    "collapsed": true
   },
   "outputs": [],
   "source": [
    "t = sc.parallelize([('1', 'sku0', 1), ('2', 'sku2', 2), ('1', 'sku1', 1)])"
   ]
  },
  {
   "cell_type": "code",
   "execution_count": null,
   "metadata": {
    "collapsed": true
   },
   "outputs": [],
   "source": [
    "t.zipWithIndex().map(lambda x: (x[0][0], (x[0][1], x[0][2]))).groupByKey().mapValues(list).collect()[:10]"
   ]
  },
  {
   "cell_type": "code",
   "execution_count": 8,
   "metadata": {
    "collapsed": true
   },
   "outputs": [],
   "source": [
    "def aggregate_skus(row):\n",
    "    \"\"\"Aggregates skus from customers and their respective scores\n",
    "    :type row: list\n",
    "    :param row: list having values [user, (sku, score)]\n",
    "    :rtype: list\n",
    "    :returns: `yield` on [user, (sku, sum(score))]\n",
    "    \"\"\"\n",
    "    d = defaultdict(float)\n",
    "    for inner_row in row[1]:\n",
    "        d[inner_row[0]] += inner_row[1]\n",
    "    yield (row[0], list(d.items()))"
   ]
  },
  {
   "cell_type": "code",
   "execution_count": null,
   "metadata": {
    "collapsed": true
   },
   "outputs": [],
   "source": []
  },
  {
   "cell_type": "code",
   "execution_count": null,
   "metadata": {
    "collapsed": true
   },
   "outputs": [],
   "source": [
    "r = d2.rdd.collect()[:10]"
   ]
  },
  {
   "cell_type": "code",
   "execution_count": null,
   "metadata": {
    "collapsed": true
   },
   "outputs": [],
   "source": [
    "r[0].user"
   ]
  },
  {
   "cell_type": "code",
   "execution_count": null,
   "metadata": {
    "collapsed": true
   },
   "outputs": [],
   "source": [
    "print(r.flatMap(lambda x: aggregate_skus(x)).collect()[:10])"
   ]
  },
  {
   "cell_type": "code",
   "execution_count": null,
   "metadata": {
    "collapsed": true
   },
   "outputs": [],
   "source": []
  },
  {
   "cell_type": "code",
   "execution_count": null,
   "metadata": {
    "collapsed": true
   },
   "outputs": [],
   "source": [
    "r.toDF(schema=_load_users_matrix_schema()).write.json('gs://lbanor/dataproc_example/intermediary/2017-11-01')"
   ]
  },
  {
   "cell_type": "code",
   "execution_count": 3,
   "metadata": {
    "collapsed": true
   },
   "outputs": [],
   "source": [
    "def _load_users_matrix_schema():\n",
    "    \"\"\"Loads schema with data type [user, [(sku, score), (sku, score)]]\n",
    "    :rtype: `pyspark.sql.type.StructType`\n",
    "    :returns: schema speficiation for user -> (sku, score) data.\n",
    "    \"\"\"\n",
    "    return stypes.StructType(fields=[\n",
    "        stypes.StructField(\"user\", stypes.StringType()),\n",
    "         stypes.StructField('interactions', stypes.ArrayType(\n",
    "          stypes.StructType(fields=[stypes.StructField('item', \n",
    "           stypes.StringType()), stypes.StructField('score', \n",
    "            stypes.FloatType())])))])"
   ]
  },
  {
   "cell_type": "code",
   "execution_count": null,
   "metadata": {
    "collapsed": true
   },
   "outputs": [],
   "source": [
    "dir()"
   ]
  },
  {
   "cell_type": "code",
   "execution_count": null,
   "metadata": {
    "collapsed": true
   },
   "outputs": [],
   "source": [
    "t = sc.parallelize([[0, [1, 2]], [0, [3]]])"
   ]
  },
  {
   "cell_type": "code",
   "execution_count": null,
   "metadata": {
    "collapsed": true
   },
   "outputs": [],
   "source": [
    "print(t.collect())"
   ]
  },
  {
   "cell_type": "code",
   "execution_count": null,
   "metadata": {
    "collapsed": true
   },
   "outputs": [],
   "source": [
    "t.write.json?"
   ]
  },
  {
   "cell_type": "code",
   "execution_count": 4,
   "metadata": {
    "collapsed": true
   },
   "outputs": [],
   "source": [
    "t = spark.read.json('gs://lbanor/dataproc_example/intermediary/2017-11-02', schema=_load_users_matrix_schema())"
   ]
  },
  {
   "cell_type": "code",
   "execution_count": 15,
   "metadata": {
    "collapsed": true
   },
   "outputs": [],
   "source": [
    "t = spark.read.json('gs://lbanor/dataproc_example/intermediary/2017-11-02/*.gz')"
   ]
  },
  {
   "cell_type": "code",
   "execution_count": 16,
   "metadata": {},
   "outputs": [
    {
     "data": {
      "text/plain": [
       "[Row(interactions=[Row(item='CL107APF50APL', score=0.5), Row(item='AU176APF23XJC', score=0.5), Row(item='BB228APF43WGQ', score=0.5), Row(item='CL107APF65QXA', score=0.5), Row(item='AG672APF39ZAQ', score=0.5), Row(item='MO131APF88TNN', score=0.5)], user='6935962925703084781'),\n",
       " Row(interactions=[Row(item='VI618SHF43ZUOQ', score=0.5), Row(item='VI618SHF39PAM', score=0.5)], user='3976706926628584656'),\n",
       " Row(interactions=[Row(item='FA258APF88WLN', score=0.5)], user='4833826057813210049'),\n",
       " Row(interactions=[Row(item='PA463SHM37YXI', score=1.0)], user='1283229667069910147'),\n",
       " Row(interactions=[Row(item='TR763APM70QXD', score=0.5), Row(item='RE189APM30XWN', score=0.5), Row(item='TR763APF14YKR', score=0.5), Row(item='RE189APM99XXS', score=0.5), Row(item='VO972SRM08MYT', score=0.5), Row(item='CO515APM31DRC', score=0.5), Row(item='FO743APF31PEM', score=1.0), Row(item='PR667APF28HXB', score=0.5), Row(item='LE886APM04FXN', score=0.5), Row(item='PR667APF44FHB', score=0.5), Row(item='DU964APF04DED', score=0.5), Row(item='DU964APF92GVF', score=0.5), Row(item='GU780APF05HAO', score=0.5), Row(item='TO723APF90KDL', score=3.5), Row(item='AL925APM73ZVA', score=0.5), Row(item='LE886APM59GNS', score=0.5), Row(item='LE886APM01FXQ', score=0.5), Row(item='CA497APM27BMU', score=0.5), Row(item='TO723APF88KDN', score=0.5), Row(item='TR763APF18YJL', score=0.5), Row(item='MO692APF97ACK', score=0.5), Row(item='DU964APF37VNU', score=0.5), Row(item='PR667APF90IIB', score=0.5), Row(item='CH245APM22BYR', score=0.5), Row(item='DU964APF95GVC', score=0.5), Row(item='DE241APF11GGI', score=1.0), Row(item='CO515APM32DRB', score=0.5), Row(item='TA722APM42CFL', score=0.5), Row(item='PR667APF59WWE', score=0.5), Row(item='PR667APF73HGS', score=0.5), Row(item='DU964APF94GVD', score=0.5)], user='6790259102232862828'),\n",
       " Row(interactions=[Row(item='ZA700APF83HNK', score=0.5), Row(item='FI911APF30THT', score=1.0), Row(item='KA089APF33DSC', score=1.0), Row(item='FI911APF39THK', score=0.5)], user='4434573014736720447'),\n",
       " Row(interactions=[Row(item='PE199SHM64NTR', score=1.0), Row(item='PO133SHF23MIE', score=2.5)], user='5111742203147547660'),\n",
       " Row(interactions=[Row(item='JE317APF45YBU', score=0.5), Row(item='FI123APF19ENK', score=0.5), Row(item='AI330APF42JKN', score=0.5), Row(item='FA258APF12NWD', score=0.5), Row(item='AI330APF58YHH', score=0.5), Row(item='JE317APF46YBT', score=0.5), Row(item='MA707APF69FKS', score=0.5)], user='1659789447252800246'),\n",
       " Row(interactions=[Row(item='NI288SRM93HVA', score=0.5), Row(item='VE920APM52BIT', score=0.5), Row(item='FA917SRM35KSM', score=0.5)], user='7911638921049219615'),\n",
       " Row(interactions=[Row(item='AI330APF41LMC', score=0.5)], user='7003311826808599043')]"
      ]
     },
     "execution_count": 16,
     "metadata": {},
     "output_type": "execute_result"
    }
   ],
   "source": [
    "t.rdd.map(lambda x: x).collect()[:10]"
   ]
  },
  {
   "cell_type": "code",
   "execution_count": null,
   "metadata": {
    "collapsed": true
   },
   "outputs": [],
   "source": [
    "t.head(3)"
   ]
  },
  {
   "cell_type": "code",
   "execution_count": null,
   "metadata": {
    "collapsed": true
   },
   "outputs": [],
   "source": [
    "t.rdd.reduceByKey(operator.add).collect()[:10]"
   ]
  },
  {
   "cell_type": "code",
   "execution_count": null,
   "metadata": {
    "collapsed": true
   },
   "outputs": [],
   "source": [
    "print(t.reduceByKey(operator.add).collect())"
   ]
  },
  {
   "cell_type": "code",
   "execution_count": 9,
   "metadata": {
    "collapsed": true
   },
   "outputs": [],
   "source": [
    " data = (t.rdd\n",
    " .reduceByKey(operator.add)\n",
    " .flatMap(lambda x: aggregate_skus(x))\n",
    " .filter(lambda x: len(x[1]) > 1 and len(x[1]) < 10))"
   ]
  },
  {
   "cell_type": "code",
   "execution_count": 6,
   "metadata": {
    "collapsed": true
   },
   "outputs": [],
   "source": [
    "def _process_scores(row):\n",
    "    \"\"\"After all user -> score aggregation is done, this method loops\n",
    "    through each sku for a given user and yields its squared score so\n",
    "    that we can compute the norm ``||c||`` for each sku column.\n",
    "\n",
    "    :type row: list\n",
    "    :param row: list of type [(user, (sku, score))]\n",
    "\n",
    "    :rtype: tuple\n",
    "    :returns: tuple of type (sku, (score ** 2))\n",
    "    \"\"\"\n",
    "    for inner_row in row[1]:\n",
    "        yield (inner_row[0], inner_row[1] ** 2)\n"
   ]
  },
  {
   "cell_type": "code",
   "execution_count": 10,
   "metadata": {
    "collapsed": true
   },
   "outputs": [],
   "source": [
    "norms = {sku: norm for sku, norm in (data.flatMap(lambda x: _process_scores(x))\n",
    " .reduceByKey(operator.add)\n",
    " .map(lambda x: (x[0], math.sqrt(x[1])))\n",
    " .collect())}\n"
   ]
  },
  {
   "cell_type": "code",
   "execution_count": 13,
   "metadata": {
    "collapsed": true
   },
   "outputs": [],
   "source": [
    "data = (data\n",
    "   .flatMap(lambda x: process_intersections(x, norms))\n",
    "   .reduceByKey(operator.add)\n",
    "   .collect()[:20])"
   ]
  },
  {
   "cell_type": "code",
   "execution_count": 14,
   "metadata": {},
   "outputs": [
    {
     "data": {
      "text/plain": [
       "[(('VI185ACF51CIA', 'EQ443ACF44NCD'), 0.23145502494313788),\n",
       " (('SA232SHF71FUY', 'DU277SHF61WLM'), 0.033806170189140665),\n",
       " (('UN967APF66VVD', 'RI464APF25OQG'), 0.002715196760230896),\n",
       " (('VA134SCF19LVC', 'VA134SCF94WCF'), 0.12309149097933275),\n",
       " (('CO515ACF64LQX', 'AC589APF97OZY'), 0.001290361251780358),\n",
       " (('CA878ACF83LIM', 'DO723ACF08VWD'), 0.5),\n",
       " (('VI618SHF13MTQ', 'VI618SHF91GTS'), 0.18057877962865385),\n",
       " (('VI185SHF11KRK', 'VI282SHF61OUW'), 0.2886751345948129),\n",
       " (('CO980HDU92APZ', 'AL505SHU83DJK'), 0.33333333333333337),\n",
       " (('PA026SHM19TEQ', 'GI259SHM96LDV'), 0.06154574548966636),\n",
       " (('RA132ACU52KSP', 'DU277SHF89ZFI'), 0.03706246583305506),\n",
       " (('VI618SHF79ULG', 'VI618SHF59MTG'), 0.1889822365046136),\n",
       " (('MO578SHF10RGN', 'MO578SHF35RFO'), 0.04141576832812911),\n",
       " (('LA906APF66LGV', 'LA906APF20GSP'), 0.022140372138502378),\n",
       " (('FI911SHF25QTA', 'FI911SHF16QTJ'), 0.15635262099882086),\n",
       " (('EQ443ACF67XZW', 'CO515APF17LCG'), 0.058722021951470346),\n",
       " (('CA497APM18YRL', 'CA497APM74YWZ'), 0.08192319205190406),\n",
       " (('CO796SCF75DBG', 'CO796SCF04KDB'), 0.31622776601683794),\n",
       " (('BO108SCM74YZL', 'DE481SHM54KZH'), 0.03615507630310936),\n",
       " (('CA957SHM22GYR', 'RM929APM58AMR'), 0.03721614637823934)]"
      ]
     },
     "execution_count": 14,
     "metadata": {},
     "output_type": "execute_result"
    }
   ],
   "source": [
    "data"
   ]
  },
  {
   "cell_type": "code",
   "execution_count": 12,
   "metadata": {
    "collapsed": true
   },
   "outputs": [],
   "source": [
    "def process_intersections(row, norms):\n",
    "    for i in range(len(row[1])):\n",
    "        for j in range(i + 1, len(row[1])):\n",
    "            #yield row[1][i]\n",
    "            yield ((row[1][i][0], row[1][j][0]), row[1][i][1] * row[1][j][1] / (norms[row[1][i][0]] * norms[row[1][j][0]]))"
   ]
  },
  {
   "cell_type": "code",
   "execution_count": null,
   "metadata": {
    "collapsed": true
   },
   "outputs": [],
   "source": [
    "re = t.flatMap(lambda x: process_intersections(x))"
   ]
  }
 ],
 "metadata": {
  "kernelspec": {
   "display_name": "PySpark",
   "language": "python",
   "name": "pyspark"
  },
  "language_info": {
   "codemirror_mode": {
    "name": "ipython",
    "version": 3
   },
   "file_extension": ".py",
   "mimetype": "text/x-python",
   "name": "python",
   "nbconvert_exporter": "python",
   "pygments_lexer": "ipython3",
   "version": "3.5.2"
  }
 },
 "nbformat": 4,
 "nbformat_minor": 2
}
